{
 "cells": [
  {
   "cell_type": "code",
   "execution_count": 2,
   "metadata": {},
   "outputs": [],
   "source": [
    "import PyPDF2\n",
    "\n",
    "pdf = open('/home/liuzibo/code/python/AutoBoringStuff/chapter15/meetingminutes.pdf', 'rb')\n",
    "pdfReader = PyPDF2.PdfReader(pdf)"
   ]
  },
  {
   "cell_type": "code",
   "execution_count": 5,
   "metadata": {},
   "outputs": [
    {
     "data": {
      "text/plain": [
       "19"
      ]
     },
     "execution_count": 5,
     "metadata": {},
     "output_type": "execute_result"
    }
   ],
   "source": [
    "len(pdfReader.pages)"
   ]
  },
  {
   "cell_type": "code",
   "execution_count": 10,
   "metadata": {},
   "outputs": [],
   "source": [
    "pdfObj = pdfReader.pages[1]"
   ]
  },
  {
   "cell_type": "code",
   "execution_count": 11,
   "metadata": {},
   "outputs": [
    {
     "data": {
      "text/plain": [
       "' LOUISIANA STATE BOARD OF ELEMENTARY AND SECONDARY EDUCATION \\n \\n MARCH 7, 2014 \\n  The Louisiana Purchase Room  \\n Baton Rouge, LA  \\n \\n   The Louisiana State Board of Elementary and Secondary Education met in regular  \\nsession on March 7, 2014,  in the Louisiana Purchase Room, located in the Claiborne \\nBuilding in Baton Rouge, Louisiana.  The meeting was called to order at 9:17 a.m.  by \\nBoard President Chas Roemer  and opened with a prayer by  Ms. Terry Johnson, Bossier \\nParish School System . \\n Board members present were Dr . Lottie Beebe, Ms. Holly Boffy, Mr. Jim Garvey, Mr.  Jay \\nGuillot, Ms.  Carolyn Hill, Mr. Walter Lee, Dr. Judith Miranti, Mr. Chas Roemer , and \\nMs. Jane Smith.  \\n \\nMs. Connie Bradford and Ms. Kira Orange Jones were absent.  \\n Dr. Charlie Michel, Lafourche Parish School System,  led the Pledge of Allegiance.  \\n \\nAgenda  \\nItem 2.  On motion of Mr. Garvey, seconded by Ms. Boffy, the Board approved the \\nagenda, as printed and disseminated.  (Schedule 1)  \\n \\nAgenda  \\nItem 3.  On motion of Ms. Smith, seconded by Ms. Boffy, the Board app roved the \\nminutes of January 15, 2014.  \\n \\nAgenda  \\nItem 4.  Report by the State Superintendent of Education  \\n \\nState Superintendent of Education John White provided an update on the \\nintense and increased support that the LDE is providing to teachers to \\nassist wi th new academic expectations.  The LDE has established the \\nfollowing support structures:  (1) network teams are working directly with \\nsuperintendents; (2) district planning teams and district planning guides \\nhave been established in every district; and (3) teacher leader team s are  \\ndoubling to 4,000 next year.  Sample test items are being released.  The \\ncurriculum package for next year is being released.   Next year’s \\nassessment guides will be produced in the following weeks.  \\n '"
      ]
     },
     "execution_count": 11,
     "metadata": {},
     "output_type": "execute_result"
    }
   ],
   "source": [
    "pdfObj.extract_text()"
   ]
  },
  {
   "cell_type": "code",
   "execution_count": 12,
   "metadata": {},
   "outputs": [],
   "source": [
    "pdf.close()"
   ]
  },
  {
   "cell_type": "code",
   "execution_count": null,
   "metadata": {},
   "outputs": [],
   "source": []
  }
 ],
 "metadata": {
  "kernelspec": {
   "display_name": "py310",
   "language": "python",
   "name": "python3"
  },
  "language_info": {
   "codemirror_mode": {
    "name": "ipython",
    "version": 3
   },
   "file_extension": ".py",
   "mimetype": "text/x-python",
   "name": "python",
   "nbconvert_exporter": "python",
   "pygments_lexer": "ipython3",
   "version": "3.10.13"
  }
 },
 "nbformat": 4,
 "nbformat_minor": 2
}
